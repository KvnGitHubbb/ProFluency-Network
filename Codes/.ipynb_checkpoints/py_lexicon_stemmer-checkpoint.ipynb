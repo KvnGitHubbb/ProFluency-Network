{
 "cells": [
  {
   "cell_type": "code",
   "execution_count": 1,
   "id": "12fd9f9d-c924-432a-90c8-b988e6deb9f9",
   "metadata": {
    "tags": []
   },
   "outputs": [
    {
     "name": "stdout",
     "output_type": "stream",
     "text": [
      "Requirement already satisfied: nltk in c:\\users\\kzhg1\\anaconda3\\lib\\site-packages (3.7)\n",
      "Requirement already satisfied: click in c:\\users\\kzhg1\\anaconda3\\lib\\site-packages (from nltk) (8.0.4)\n",
      "Requirement already satisfied: joblib in c:\\users\\kzhg1\\anaconda3\\lib\\site-packages (from nltk) (1.1.0)\n",
      "Requirement already satisfied: tqdm in c:\\users\\kzhg1\\anaconda3\\lib\\site-packages (from nltk) (4.64.1)\n",
      "Requirement already satisfied: regex>=2021.8.3 in c:\\users\\kzhg1\\anaconda3\\lib\\site-packages (from nltk) (2022.7.9)\n",
      "Requirement already satisfied: colorama in c:\\users\\kzhg1\\anaconda3\\lib\\site-packages (from click->nltk) (0.4.5)\n"
     ]
    }
   ],
   "source": [
    "!pip install nltk"
   ]
  },
  {
   "cell_type": "code",
   "execution_count": 2,
   "id": "a22b6c64-cbee-4111-b5a0-f0e8fc84a1f3",
   "metadata": {},
   "outputs": [],
   "source": [
    "import nltk \n",
    "from nltk.stem import WordNetLemmatizer\n",
    "from nltk.stem import PorterStemmer\n",
    "from nltk.tokenize import word_tokenize\n",
    "from nltk.corpus import words\n",
    "\n",
    "import pandas as pd\n",
    "import numpy as np"
   ]
  },
  {
   "cell_type": "code",
   "execution_count": 3,
   "id": "738d47fb-7938-4ba1-af6e-855b587c8ff2",
   "metadata": {
    "collapsed": true,
    "jupyter": {
     "outputs_hidden": true
    },
    "tags": []
   },
   "outputs": [
    {
     "name": "stderr",
     "output_type": "stream",
     "text": [
      "[nltk_data] Downloading package wordnet to\n",
      "[nltk_data]     C:\\Users\\kzhg1\\AppData\\Roaming\\nltk_data...\n",
      "[nltk_data]   Package wordnet is already up-to-date!\n",
      "[nltk_data] Downloading package words to\n",
      "[nltk_data]     C:\\Users\\kzhg1\\AppData\\Roaming\\nltk_data...\n",
      "[nltk_data]   Package words is already up-to-date!\n",
      "[nltk_data] Downloading package omw-1.4 to\n",
      "[nltk_data]     C:\\Users\\kzhg1\\AppData\\Roaming\\nltk_data...\n",
      "[nltk_data]   Package omw-1.4 is already up-to-date!\n"
     ]
    },
    {
     "data": {
      "text/plain": [
       "True"
      ]
     },
     "execution_count": 3,
     "metadata": {},
     "output_type": "execute_result"
    }
   ],
   "source": [
    "nltk.download(\"wordnet\")\n",
    "nltk.download('words')\n",
    "nltk.download('omw-1.4')"
   ]
  },
  {
   "cell_type": "code",
   "execution_count": 4,
   "id": "eccbb468-3925-4cb5-8630-35de9692b1c7",
   "metadata": {
    "collapsed": true,
    "jupyter": {
     "outputs_hidden": true
    },
    "tags": []
   },
   "outputs": [
    {
     "data": {
      "text/plain": [
       "['en', 'en-basic']"
      ]
     },
     "execution_count": 4,
     "metadata": {},
     "output_type": "execute_result"
    }
   ],
   "source": [
    "words.fileids()"
   ]
  },
  {
   "cell_type": "code",
   "execution_count": 5,
   "id": "bbae845b-c07e-42a2-acf4-1a38485bf866",
   "metadata": {
    "collapsed": true,
    "jupyter": {
     "outputs_hidden": true
    },
    "tags": []
   },
   "outputs": [
    {
     "data": {
      "text/html": [
       "<div>\n",
       "<style scoped>\n",
       "    .dataframe tbody tr th:only-of-type {\n",
       "        vertical-align: middle;\n",
       "    }\n",
       "\n",
       "    .dataframe tbody tr th {\n",
       "        vertical-align: top;\n",
       "    }\n",
       "\n",
       "    .dataframe thead th {\n",
       "        text-align: right;\n",
       "    }\n",
       "</style>\n",
       "<table border=\"1\" class=\"dataframe\">\n",
       "  <thead>\n",
       "    <tr style=\"text-align: right;\">\n",
       "      <th></th>\n",
       "      <th>0</th>\n",
       "    </tr>\n",
       "  </thead>\n",
       "  <tbody>\n",
       "    <tr>\n",
       "      <th>0</th>\n",
       "      <td>A</td>\n",
       "    </tr>\n",
       "    <tr>\n",
       "      <th>1</th>\n",
       "      <td>a</td>\n",
       "    </tr>\n",
       "    <tr>\n",
       "      <th>2</th>\n",
       "      <td>aa</td>\n",
       "    </tr>\n",
       "    <tr>\n",
       "      <th>3</th>\n",
       "      <td>aal</td>\n",
       "    </tr>\n",
       "    <tr>\n",
       "      <th>4</th>\n",
       "      <td>aalii</td>\n",
       "    </tr>\n",
       "    <tr>\n",
       "      <th>...</th>\n",
       "      <td>...</td>\n",
       "    </tr>\n",
       "    <tr>\n",
       "      <th>235881</th>\n",
       "      <td>zythem</td>\n",
       "    </tr>\n",
       "    <tr>\n",
       "      <th>235882</th>\n",
       "      <td>Zythia</td>\n",
       "    </tr>\n",
       "    <tr>\n",
       "      <th>235883</th>\n",
       "      <td>zythum</td>\n",
       "    </tr>\n",
       "    <tr>\n",
       "      <th>235884</th>\n",
       "      <td>Zyzomys</td>\n",
       "    </tr>\n",
       "    <tr>\n",
       "      <th>235885</th>\n",
       "      <td>Zyzzogeton</td>\n",
       "    </tr>\n",
       "  </tbody>\n",
       "</table>\n",
       "<p>235886 rows × 1 columns</p>\n",
       "</div>"
      ],
      "text/plain": [
       "                 0\n",
       "0                A\n",
       "1                a\n",
       "2               aa\n",
       "3              aal\n",
       "4            aalii\n",
       "...            ...\n",
       "235881      zythem\n",
       "235882      Zythia\n",
       "235883      zythum\n",
       "235884     Zyzomys\n",
       "235885  Zyzzogeton\n",
       "\n",
       "[235886 rows x 1 columns]"
      ]
     },
     "execution_count": 5,
     "metadata": {},
     "output_type": "execute_result"
    }
   ],
   "source": [
    "lexicon = words.words('en')\n",
    "lexicon = pd.DataFrame(lexicon)\n",
    "lexicon"
   ]
  },
  {
   "cell_type": "markdown",
   "id": "63006884-1146-4cd2-89cd-83a7b67e4a2e",
   "metadata": {},
   "source": [
    "<h3>Stemmer</h3>"
   ]
  },
  {
   "cell_type": "code",
   "execution_count": 6,
   "id": "ac966938-3125-4bbd-bc6d-90ea0a999e79",
   "metadata": {},
   "outputs": [],
   "source": [
    "Stemmer = PorterStemmer()"
   ]
  },
  {
   "cell_type": "code",
   "execution_count": 7,
   "id": "52497f9e-d09f-4560-a166-d6b0f7c89f3f",
   "metadata": {
    "collapsed": true,
    "jupyter": {
     "outputs_hidden": true
    },
    "tags": []
   },
   "outputs": [
    {
     "data": {
      "text/html": [
       "<div>\n",
       "<style scoped>\n",
       "    .dataframe tbody tr th:only-of-type {\n",
       "        vertical-align: middle;\n",
       "    }\n",
       "\n",
       "    .dataframe tbody tr th {\n",
       "        vertical-align: top;\n",
       "    }\n",
       "\n",
       "    .dataframe thead th {\n",
       "        text-align: right;\n",
       "    }\n",
       "</style>\n",
       "<table border=\"1\" class=\"dataframe\">\n",
       "  <thead>\n",
       "    <tr style=\"text-align: right;\">\n",
       "      <th></th>\n",
       "      <th>0</th>\n",
       "    </tr>\n",
       "  </thead>\n",
       "  <tbody>\n",
       "    <tr>\n",
       "      <th>0</th>\n",
       "      <td>A</td>\n",
       "    </tr>\n",
       "    <tr>\n",
       "      <th>1</th>\n",
       "      <td>a</td>\n",
       "    </tr>\n",
       "    <tr>\n",
       "      <th>2</th>\n",
       "      <td>aa</td>\n",
       "    </tr>\n",
       "    <tr>\n",
       "      <th>3</th>\n",
       "      <td>aal</td>\n",
       "    </tr>\n",
       "    <tr>\n",
       "      <th>4</th>\n",
       "      <td>aalii</td>\n",
       "    </tr>\n",
       "    <tr>\n",
       "      <th>...</th>\n",
       "      <td>...</td>\n",
       "    </tr>\n",
       "    <tr>\n",
       "      <th>235881</th>\n",
       "      <td>zythem</td>\n",
       "    </tr>\n",
       "    <tr>\n",
       "      <th>235882</th>\n",
       "      <td>Zythia</td>\n",
       "    </tr>\n",
       "    <tr>\n",
       "      <th>235883</th>\n",
       "      <td>zythum</td>\n",
       "    </tr>\n",
       "    <tr>\n",
       "      <th>235884</th>\n",
       "      <td>Zyzomys</td>\n",
       "    </tr>\n",
       "    <tr>\n",
       "      <th>235885</th>\n",
       "      <td>Zyzzogeton</td>\n",
       "    </tr>\n",
       "  </tbody>\n",
       "</table>\n",
       "<p>235886 rows × 1 columns</p>\n",
       "</div>"
      ],
      "text/plain": [
       "                 0\n",
       "0                A\n",
       "1                a\n",
       "2               aa\n",
       "3              aal\n",
       "4            aalii\n",
       "...            ...\n",
       "235881      zythem\n",
       "235882      Zythia\n",
       "235883      zythum\n",
       "235884     Zyzomys\n",
       "235885  Zyzzogeton\n",
       "\n",
       "[235886 rows x 1 columns]"
      ]
     },
     "execution_count": 7,
     "metadata": {},
     "output_type": "execute_result"
    }
   ],
   "source": [
    "lexicon"
   ]
  },
  {
   "cell_type": "code",
   "execution_count": 8,
   "id": "13a88e20-462b-41c0-b933-28c3396a1ec3",
   "metadata": {},
   "outputs": [],
   "source": [
    "lexicon = lexicon[0].str.lower()"
   ]
  },
  {
   "cell_type": "code",
   "execution_count": 9,
   "id": "2e8db050-8c79-4aea-85d1-7170f9b57494",
   "metadata": {
    "collapsed": true,
    "jupyter": {
     "outputs_hidden": true
    },
    "tags": []
   },
   "outputs": [
    {
     "data": {
      "text/plain": [
       "0                  a\n",
       "1                  a\n",
       "2                 aa\n",
       "3                aal\n",
       "4              aalii\n",
       "             ...    \n",
       "235881        zythem\n",
       "235882        zythia\n",
       "235883        zythum\n",
       "235884       zyzomys\n",
       "235885    zyzzogeton\n",
       "Name: 0, Length: 235886, dtype: object"
      ]
     },
     "execution_count": 9,
     "metadata": {},
     "output_type": "execute_result"
    }
   ],
   "source": [
    "lexicon"
   ]
  },
  {
   "cell_type": "code",
   "execution_count": 10,
   "id": "5df5c7b7-11ad-493f-92a5-9cadff781217",
   "metadata": {},
   "outputs": [],
   "source": [
    "for i in range(0,len(lexicon)):\n",
    "    string = Stemmer.stem(lexicon[i])\n",
    "    lexicon[i] = string"
   ]
  },
  {
   "cell_type": "code",
   "execution_count": 11,
   "id": "97effc41-caf2-4cce-ac07-dd06683eb17b",
   "metadata": {},
   "outputs": [],
   "source": [
    "lexicon = np.unique(lexicon)"
   ]
  },
  {
   "cell_type": "code",
   "execution_count": 12,
   "id": "055cbbb1-2e28-4b0a-a690-e5ac95e6fd71",
   "metadata": {},
   "outputs": [
    {
     "data": {
      "text/plain": [
       "array(['a', 'aa', 'aal', ..., 'zythum', 'zyzomi', 'zyzzogeton'],\n",
       "      dtype=object)"
      ]
     },
     "execution_count": 12,
     "metadata": {},
     "output_type": "execute_result"
    }
   ],
   "source": [
    "lexicon"
   ]
  },
  {
   "cell_type": "code",
   "execution_count": 13,
   "id": "4745da79-e69d-42a0-8006-ce7aa4a1e658",
   "metadata": {},
   "outputs": [],
   "source": [
    "lexicon = pd.DataFrame(lexicon)"
   ]
  },
  {
   "cell_type": "code",
   "execution_count": 14,
   "id": "fff51115-17d2-46ad-9167-55dceeeae7db",
   "metadata": {
    "tags": []
   },
   "outputs": [
    {
     "data": {
      "text/html": [
       "<div>\n",
       "<style scoped>\n",
       "    .dataframe tbody tr th:only-of-type {\n",
       "        vertical-align: middle;\n",
       "    }\n",
       "\n",
       "    .dataframe tbody tr th {\n",
       "        vertical-align: top;\n",
       "    }\n",
       "\n",
       "    .dataframe thead th {\n",
       "        text-align: right;\n",
       "    }\n",
       "</style>\n",
       "<table border=\"1\" class=\"dataframe\">\n",
       "  <thead>\n",
       "    <tr style=\"text-align: right;\">\n",
       "      <th></th>\n",
       "      <th>0</th>\n",
       "    </tr>\n",
       "  </thead>\n",
       "  <tbody>\n",
       "    <tr>\n",
       "      <th>0</th>\n",
       "      <td>a</td>\n",
       "    </tr>\n",
       "    <tr>\n",
       "      <th>1</th>\n",
       "      <td>aa</td>\n",
       "    </tr>\n",
       "    <tr>\n",
       "      <th>2</th>\n",
       "      <td>aal</td>\n",
       "    </tr>\n",
       "    <tr>\n",
       "      <th>3</th>\n",
       "      <td>aalii</td>\n",
       "    </tr>\n",
       "    <tr>\n",
       "      <th>4</th>\n",
       "      <td>aam</td>\n",
       "    </tr>\n",
       "    <tr>\n",
       "      <th>...</th>\n",
       "      <td>...</td>\n",
       "    </tr>\n",
       "    <tr>\n",
       "      <th>178303</th>\n",
       "      <td>zythem</td>\n",
       "    </tr>\n",
       "    <tr>\n",
       "      <th>178304</th>\n",
       "      <td>zythia</td>\n",
       "    </tr>\n",
       "    <tr>\n",
       "      <th>178305</th>\n",
       "      <td>zythum</td>\n",
       "    </tr>\n",
       "    <tr>\n",
       "      <th>178306</th>\n",
       "      <td>zyzomi</td>\n",
       "    </tr>\n",
       "    <tr>\n",
       "      <th>178307</th>\n",
       "      <td>zyzzogeton</td>\n",
       "    </tr>\n",
       "  </tbody>\n",
       "</table>\n",
       "<p>178308 rows × 1 columns</p>\n",
       "</div>"
      ],
      "text/plain": [
       "                 0\n",
       "0                a\n",
       "1               aa\n",
       "2              aal\n",
       "3            aalii\n",
       "4              aam\n",
       "...            ...\n",
       "178303      zythem\n",
       "178304      zythia\n",
       "178305      zythum\n",
       "178306      zyzomi\n",
       "178307  zyzzogeton\n",
       "\n",
       "[178308 rows x 1 columns]"
      ]
     },
     "execution_count": 14,
     "metadata": {},
     "output_type": "execute_result"
    }
   ],
   "source": [
    "lexicon"
   ]
  },
  {
   "cell_type": "code",
   "execution_count": 16,
   "id": "d688b9a9-f49d-493b-ac4d-8ca9e95ae7cb",
   "metadata": {},
   "outputs": [
    {
     "data": {
      "text/plain": [
       "'histori'"
      ]
     },
     "execution_count": 16,
     "metadata": {},
     "output_type": "execute_result"
    }
   ],
   "source": [
    "Stemmer.stem(\"history\")"
   ]
  },
  {
   "cell_type": "code",
   "execution_count": null,
   "id": "e1ffdc50-917e-4f75-8b49-e4a4bac13a9a",
   "metadata": {},
   "outputs": [],
   "source": [
    "# 57578 words are removed by the stemmer"
   ]
  }
 ],
 "metadata": {
  "kernelspec": {
   "display_name": "Python 3 (ipykernel)",
   "language": "python",
   "name": "python3"
  },
  "language_info": {
   "codemirror_mode": {
    "name": "ipython",
    "version": 3
   },
   "file_extension": ".py",
   "mimetype": "text/x-python",
   "name": "python",
   "nbconvert_exporter": "python",
   "pygments_lexer": "ipython3",
   "version": "3.9.12"
  }
 },
 "nbformat": 4,
 "nbformat_minor": 5
}
